{
 "cells": [
  {
   "cell_type": "markdown",
   "metadata": {},
   "source": [
    "Capital indexes\n",
    "Write a function named capital_indexes. The function takes a single parameter, which is a string. Your function should return a list of all the indexes in the string that have capital letters.\n",
    "\n",
    "For example, calling capital_indexes(\"HeLlO\") should return the list [0, 2, 4]."
   ]
  },
  {
   "cell_type": "code",
   "execution_count": 69,
   "metadata": {},
   "outputs": [
    {
     "name": "stdout",
     "output_type": "stream",
     "text": [
      "[0, 2, 4]\n",
      "[0, 2, 4, 6]\n",
      "[0, 3, 5, 6, 11, 12]\n"
     ]
    }
   ],
   "source": [
    "def capital_indexes(my_string):\n",
    "    upper_letter_index = []\n",
    "    for index, letter in enumerate(my_string):\n",
    "        if letter.isupper():\n",
    "            upper_letter_index.append(index)\n",
    "    return upper_letter_index\n",
    "        \n",
    "print(capital_indexes(\"HeLlO\"))\n",
    "print(capital_indexes(\"HeLlO Word\"))\n",
    "print(capital_indexes(\"WhaT THe coFFee\"))"
   ]
  },
  {
   "cell_type": "markdown",
   "metadata": {},
   "source": [
    "Middle letter\n",
    "Write a function named mid that takes a string as its parameter. Your function should extract and return the middle letter. If there is no middle letter, your function should return the empty string.\n",
    "\n",
    "For example, mid(\"abc\") should return \"b\" and mid(\"aaaa\") should return \"\"."
   ]
  },
  {
   "cell_type": "code",
   "execution_count": 85,
   "metadata": {},
   "outputs": [
    {
     "name": "stdout",
     "output_type": "stream",
     "text": [
      "a\n",
      "b\n",
      "\n",
      "s\n"
     ]
    }
   ],
   "source": [
    "def mid(my_string):\n",
    "    middle_index = (len(my_string)) // 2\n",
    "    if len(my_string) % 2 !=0:\n",
    "        return my_string[middle_index]\n",
    "    else:\n",
    "        return \"\"\n",
    "\n",
    "print(mid(\"a\"))\n",
    "print(mid(\"abc\"))\n",
    "print(mid(\"abcd\"))\n",
    "print(mid(\"je suis\"))"
   ]
  },
  {
   "cell_type": "code",
   "execution_count": 82,
   "metadata": {},
   "outputs": [
    {
     "data": {
      "text/plain": [
       "1"
      ]
     },
     "execution_count": 82,
     "metadata": {},
     "output_type": "execute_result"
    }
   ],
   "source": [
    "def mid(string):\n",
    "    if len(string) % 2 == 0:\n",
    "        return \"\"\n",
    "    return string[len(string)//2]\n",
    "\n",
    "len('a')%2"
   ]
  }
 ],
 "metadata": {
  "kernelspec": {
   "display_name": "Python 3",
   "language": "python",
   "name": "python3"
  },
  "language_info": {
   "codemirror_mode": {
    "name": "ipython",
    "version": 3
   },
   "file_extension": ".py",
   "mimetype": "text/x-python",
   "name": "python",
   "nbconvert_exporter": "python",
   "pygments_lexer": "ipython3",
   "version": "3.12.7"
  }
 },
 "nbformat": 4,
 "nbformat_minor": 2
}
