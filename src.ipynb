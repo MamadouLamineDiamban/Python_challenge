{
 "cells": [
  {
   "cell_type": "markdown",
   "metadata": {},
   "source": [
    "Capital indexes\n",
    "Write a function named capital_indexes. The function takes a single parameter, which is a string. Your function should return a list of all the indexes in the string that have capital letters.\n",
    "\n",
    "For example, calling capital_indexes(\"HeLlO\") should return the list [0, 2, 4]."
   ]
  },
  {
   "cell_type": "code",
   "execution_count": 69,
   "metadata": {},
   "outputs": [
    {
     "name": "stdout",
     "output_type": "stream",
     "text": [
      "[0, 2, 4]\n",
      "[0, 2, 4, 6]\n",
      "[0, 3, 5, 6, 11, 12]\n"
     ]
    }
   ],
   "source": [
    "def capital_indexes(my_string):\n",
    "    upper_letter_index = []\n",
    "    for index, letter in enumerate(my_string):\n",
    "        if letter.isupper():\n",
    "            upper_letter_index.append(index)\n",
    "    return upper_letter_index\n",
    "        \n",
    "print(capital_indexes(\"HeLlO\"))\n",
    "print(capital_indexes(\"HeLlO Word\"))\n",
    "print(capital_indexes(\"WhaT THe coFFee\"))"
   ]
  },
  {
   "cell_type": "markdown",
   "metadata": {},
   "source": [
    "Middle letter\n",
    "Write a function named mid that takes a string as its parameter. Your function should extract and return the middle letter. If there is no middle letter, your function should return the empty string.\n",
    "\n",
    "For example, mid(\"abc\") should return \"b\" and mid(\"aaaa\") should return \"\"."
   ]
  },
  {
   "cell_type": "code",
   "execution_count": 85,
   "metadata": {},
   "outputs": [
    {
     "name": "stdout",
     "output_type": "stream",
     "text": [
      "a\n",
      "b\n",
      "\n",
      "s\n"
     ]
    }
   ],
   "source": [
    "def mid(my_string):\n",
    "    middle_index = (len(my_string)) // 2\n",
    "    if len(my_string) % 2 !=0:\n",
    "        return my_string[middle_index]\n",
    "    else:\n",
    "        return \"\"\n",
    "\n",
    "print(mid(\"a\"))\n",
    "print(mid(\"abc\"))\n",
    "print(mid(\"abcd\"))\n",
    "print(mid(\"je suis\"))"
   ]
  },
  {
   "cell_type": "markdown",
   "metadata": {},
   "source": [
    "Online status\n",
    "The aim of this challenge is, given a dictionary of people's online status, to count the number of people who are online.\n",
    "\n",
    "For example, consider the following dictionary:\n",
    "\n",
    "statuses = {\n",
    "    \"Alice\": \"online\",\n",
    "    \"Bob\": \"offline\",\n",
    "    \"Eve\": \"online\",\n",
    "}\n",
    "In this case, the number of people online is 2.\n",
    "\n",
    "Write a function named online_count that takes one parameter. The parameter is a dictionary that maps from strings of names to the string \"online\" or \"offline\", as seen above.\n",
    "\n",
    "Your function should return the number of people who are online."
   ]
  },
  {
   "cell_type": "code",
   "execution_count": 101,
   "metadata": {},
   "outputs": [
    {
     "name": "stdout",
     "output_type": "stream",
     "text": [
      "2\n",
      "3\n"
     ]
    }
   ],
   "source": [
    "def online_count(dic):\n",
    "    nb_online = sum(status == \"online\" for status in dic.values())\n",
    "    return nb_online\n",
    "\n",
    "print(online_count({\"Alice\": \"online\", \"Bob\": \"offline\",\"Eve\": \"online\"}))\n",
    "print(online_count({\"Alice\": \"online\", \"Bob\": \"offline\",\"Eve\": \"online\", \"Mamadou\": \"online\"}))"
   ]
  }
 ],
 "metadata": {
  "kernelspec": {
   "display_name": "Python 3",
   "language": "python",
   "name": "python3"
  },
  "language_info": {
   "codemirror_mode": {
    "name": "ipython",
    "version": 3
   },
   "file_extension": ".py",
   "mimetype": "text/x-python",
   "name": "python",
   "nbconvert_exporter": "python",
   "pygments_lexer": "ipython3",
   "version": "3.12.7"
  }
 },
 "nbformat": 4,
 "nbformat_minor": 2
}
