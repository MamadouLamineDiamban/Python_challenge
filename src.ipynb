{
 "cells": [
  {
   "cell_type": "markdown",
   "metadata": {},
   "source": [
    "Capital indexes\n",
    "Write a function named capital_indexes. The function takes a single parameter, which is a string. Your function should return a list of all the indexes in the string that have capital letters.\n",
    "\n",
    "For example, calling capital_indexes(\"HeLlO\") should return the list [0, 2, 4]."
   ]
  },
  {
   "cell_type": "code",
   "execution_count": 260,
   "metadata": {},
   "outputs": [
    {
     "name": "stdout",
     "output_type": "stream",
     "text": [
      "[0, 2, 4]\n",
      "[0, 2, 4, 6]\n",
      "[0, 3, 5, 6, 11, 12]\n"
     ]
    }
   ],
   "source": [
    "def capital_indexes(my_string):\n",
    "    upper_letter_index = []\n",
    "    for index, letter in enumerate(my_string):\n",
    "        if letter.isupper():\n",
    "            upper_letter_index.append(index)\n",
    "    return upper_letter_index\n",
    "        \n",
    "print(capital_indexes(\"HeLlO\"))\n",
    "print(capital_indexes(\"HeLlO Word\"))\n",
    "print(capital_indexes(\"WhaT THe coFFee\"))"
   ]
  },
  {
   "cell_type": "markdown",
   "metadata": {},
   "source": [
    "Middle letter\n",
    "Write a function named mid that takes a string as its parameter. Your function should extract and return the middle letter. If there is no middle letter, your function should return the empty string.\n",
    "\n",
    "For example, mid(\"abc\") should return \"b\" and mid(\"aaaa\") should return \"\"."
   ]
  },
  {
   "cell_type": "code",
   "execution_count": 261,
   "metadata": {},
   "outputs": [
    {
     "name": "stdout",
     "output_type": "stream",
     "text": [
      "a\n",
      "b\n",
      "\n",
      "s\n"
     ]
    }
   ],
   "source": [
    "def mid(my_string):\n",
    "    middle_index = (len(my_string)) // 2\n",
    "    if len(my_string) % 2 !=0:\n",
    "        return my_string[middle_index]\n",
    "    else:\n",
    "        return \"\"\n",
    "\n",
    "print(mid(\"a\"))\n",
    "print(mid(\"abc\"))\n",
    "print(mid(\"abcd\"))\n",
    "print(mid(\"je suis\"))"
   ]
  },
  {
   "cell_type": "markdown",
   "metadata": {},
   "source": [
    "Online status\n",
    "The aim of this challenge is, given a dictionary of people's online status, to count the number of people who are online.\n",
    "\n",
    "For example, consider the following dictionary:\n",
    "\n",
    "statuses = {\n",
    "    \"Alice\": \"online\",\n",
    "    \"Bob\": \"offline\",\n",
    "    \"Eve\": \"online\",\n",
    "}\n",
    "In this case, the number of people online is 2.\n",
    "\n",
    "Write a function named online_count that takes one parameter. The parameter is a dictionary that maps from strings of names to the string \"online\" or \"offline\", as seen above.\n",
    "\n",
    "Your function should return the number of people who are online."
   ]
  },
  {
   "cell_type": "code",
   "execution_count": 262,
   "metadata": {},
   "outputs": [
    {
     "name": "stdout",
     "output_type": "stream",
     "text": [
      "2\n",
      "3\n"
     ]
    }
   ],
   "source": [
    "def online_count(dic):\n",
    "    nb_online = sum(status == \"online\" for status in dic.values())\n",
    "    return nb_online\n",
    "\n",
    "print(online_count({\"Alice\": \"online\", \"Bob\": \"offline\",\"Eve\": \"online\"}))\n",
    "print(online_count({\"Alice\": \"online\", \"Bob\": \"offline\",\"Eve\": \"online\", \"Mamadou\": \"online\"}))"
   ]
  },
  {
   "cell_type": "markdown",
   "metadata": {},
   "source": [
    "Randomness\n",
    "Define a function, random_number, that takes no parameters. The function must generate a random integer between 1 and 100, both inclusive, and return it.\n",
    "\n",
    "Calling the function multiple times should (usually) return different numbers.\n",
    "\n",
    "For example, calling random_number() some times might first return 42, then 63, then 1."
   ]
  },
  {
   "cell_type": "code",
   "execution_count": 263,
   "metadata": {},
   "outputs": [
    {
     "data": {
      "text/plain": [
       "51"
      ]
     },
     "execution_count": 263,
     "metadata": {},
     "output_type": "execute_result"
    }
   ],
   "source": [
    "import random\n",
    "def random_number():\n",
    "    return random.randint(1,100)\n",
    "\n",
    "random_number()"
   ]
  },
  {
   "cell_type": "markdown",
   "metadata": {},
   "source": [
    "Type check\n",
    "Write a function named only_ints that takes two parameters. Your function should return True if both parameters are integers, and False otherwise.\n",
    "\n",
    "For example, calling only_ints(1, 2) should return True, while calling only_ints(\"a\", 1) should return False."
   ]
  },
  {
   "cell_type": "code",
   "execution_count": 264,
   "metadata": {},
   "outputs": [
    {
     "name": "stdout",
     "output_type": "stream",
     "text": [
      "True\n",
      "False\n"
     ]
    }
   ],
   "source": [
    "def only_ints(param1, param2):\n",
    "    return (type(param1) == int) & (type(param2) == int)\n",
    "\n",
    "print(only_ints(1,2))\n",
    "print(only_ints(\"a\",2))"
   ]
  },
  {
   "cell_type": "markdown",
   "metadata": {},
   "source": [
    "Double letters\n",
    "The goal of this challenge is to analyze a string to check if it contains two of the same letter in a row. For example, the string \"hello\" has l twice in a row, while the string \"nono\" does not have two identical letters in a row.\n",
    "\n",
    "Define a function named double_letters that takes a single parameter. The parameter is a string. Your function must return True if there are two identical letters in a row in the string, and False otherwise."
   ]
  },
  {
   "cell_type": "code",
   "execution_count": 265,
   "metadata": {},
   "outputs": [
    {
     "name": "stdout",
     "output_type": "stream",
     "text": [
      "True\n",
      "True\n",
      "False\n",
      "True\n"
     ]
    }
   ],
   "source": [
    "def double_letters(my_string):\n",
    "    for index in range(len(my_string)):\n",
    "        if index > 0 and my_string[index] == my_string[index-1]: \n",
    "            return True\n",
    "    return False\n",
    "\n",
    "print(double_letters('hello'))\n",
    "print(double_letters('moon'))\n",
    "print(double_letters('dad'))\n",
    "print(double_letters('deep'))"
   ]
  },
  {
   "cell_type": "markdown",
   "metadata": {},
   "source": [
    "Adding and removing dots\n",
    "Write a function named add_dots that takes a string and adds \".\" in between each letter. For example, calling add_dots(\"test\") should return the string \"t.e.s.t\".\n",
    "\n",
    "Then, below the add_dots function, write another function named remove_dots that removes all dots from a string. For example, calling remove_dots(\"t.e.s.t\") should return \"test\".\n",
    "\n",
    "If both functions are correct, calling remove_dots(add_dots(string)) should return back the original string for any string.\n",
    "\n",
    "(You may assume that the input to add_dots does not itself contain any dots.)"
   ]
  },
  {
   "cell_type": "code",
   "execution_count": 266,
   "metadata": {},
   "outputs": [
    {
     "name": "stdout",
     "output_type": "stream",
     "text": [
      "t.e.s.t\n",
      "a.d.d.s\n",
      "p.y.t.h.o.n\n"
     ]
    }
   ],
   "source": [
    "def add_dots(my_string):\n",
    "    return ''.join([letter+\".\" for letter in my_string[:-1]])+my_string[-1]\n",
    "\n",
    "print(add_dots(\"test\"))\n",
    "print(add_dots(\"adds\"))\n",
    "print(add_dots(\"python\"))"
   ]
  },
  {
   "cell_type": "code",
   "execution_count": 267,
   "metadata": {},
   "outputs": [
    {
     "name": "stdout",
     "output_type": "stream",
     "text": [
      "test\n",
      "adds\n",
      "python\n"
     ]
    }
   ],
   "source": [
    "def remove_dots(my_string):\n",
    "    return my_string.replace('.', '')\n",
    "\n",
    "print(remove_dots(\"t.e.s.t\"))\n",
    "print(remove_dots(\"a.d.d.s\"))\n",
    "print(remove_dots(\"p.y.t.h.o.n\"))"
   ]
  },
  {
   "cell_type": "code",
   "execution_count": 268,
   "metadata": {},
   "outputs": [
    {
     "name": "stdout",
     "output_type": "stream",
     "text": [
      "test\n",
      "adds\n",
      "python\n"
     ]
    }
   ],
   "source": [
    "print(remove_dots(add_dots(\"test\")))\n",
    "print(remove_dots(add_dots(\"adds\")))\n",
    "print(remove_dots(add_dots(\"python\")))"
   ]
  },
  {
   "cell_type": "markdown",
   "metadata": {},
   "source": [
    "Counting syllables\n",
    "Define a function named count that takes a single parameter. The parameter is a string. The string will contain a single word divided into syllables by hyphens, such as these:\n",
    "\n",
    "\"ho-tel\"\n",
    "\"cat\"\n",
    "\"met-a-phor\"\n",
    "\"ter-min-a-tor\"\n",
    "Your function should count the number of syllables and return it.\n",
    "\n",
    "For example, the call count(\"ho-tel\") should return 2."
   ]
  },
  {
   "cell_type": "code",
   "execution_count": 269,
   "metadata": {},
   "outputs": [
    {
     "name": "stdout",
     "output_type": "stream",
     "text": [
      "2\n",
      "1\n",
      "3\n",
      "4\n"
     ]
    }
   ],
   "source": [
    "def count(my_string):\n",
    "    return len(my_string.split(\"-\"))\n",
    "    #return len(''.join([letter if letter == '-' else '' for letter in my_string]))+1\n",
    "\n",
    "print(count(\"ho-tel\"))\n",
    "print(count(\"cat\"))\n",
    "print(count(\"met-a-phor\"))\n",
    "print(count(\"ter-min-a-tor\"))"
   ]
  },
  {
   "cell_type": "markdown",
   "metadata": {},
   "source": [
    "Anagrams\n",
    "Two strings are anagrams if you can make one from the other by rearranging the letters.\n",
    "\n",
    "Write a function named is_anagram that takes two strings as its parameters. Your function should return True if the strings are anagrams, and False otherwise.\n",
    "\n",
    "For example, the call is_anagram(\"typhoon\", \"opython\") should return True while the call is_anagram(\"Alice\", \"Bob\") should return False."
   ]
  },
  {
   "cell_type": "code",
   "execution_count": 270,
   "metadata": {},
   "outputs": [
    {
     "name": "stdout",
     "output_type": "stream",
     "text": [
      "True\n",
      "False\n",
      "True\n",
      "True\n"
     ]
    }
   ],
   "source": [
    "def is_anagram(string1, string2):\n",
    "    return sorted(string1.lower()) == sorted(string2.lower())\n",
    "\n",
    "print(is_anagram(\"typhoon\", \"opython\"))\n",
    "print(is_anagram(\"Alice\", \"Bob\"))\n",
    "print(is_anagram(\"Listen\", \"Silent\"))\n",
    "print(is_anagram(\"The eyes\", \"They see\"))"
   ]
  },
  {
   "cell_type": "markdown",
   "metadata": {},
   "source": [
    "Flatten a list\n",
    "Write a function that takes a list of lists and flattens it into a one-dimensional list.\n",
    "\n",
    "Name your function flatten. It should take a single parameter and return a list.\n",
    "\n",
    "For example, calling:\n",
    "\n",
    "flatten([[1, 2], [3, 4]])\n",
    "Should return the list:\n",
    "\n",
    "[1, 2, 3, 4]"
   ]
  },
  {
   "cell_type": "code",
   "execution_count": 301,
   "metadata": {},
   "outputs": [
    {
     "name": "stdout",
     "output_type": "stream",
     "text": [
      "[1, 2, 3, 4]\n",
      "[1, 2, 3, 4, 5, 6]\n"
     ]
    }
   ],
   "source": [
    "def flatten(my_list):\n",
    "    return [element for sublist in my_list for element in sublist] \n",
    "\n",
    "print(flatten([[1, 2], [3, 4]]))\n",
    "print(flatten([[1, 2], [3, 4], [5, 6]]))"
   ]
  },
  {
   "cell_type": "markdown",
   "metadata": {},
   "source": [
    "Min-maxing\n",
    "Define a function named largest_difference that takes a list of numbers as its only parameter.\n",
    "\n",
    "Your function should compute and return the difference between the largest and smallest number in the list.\n",
    "\n",
    "For example, the call largest_difference([1, 2, 3]) should return 2 because 3 - 1 is 2.\n",
    "\n",
    "You may assume that no numbers are smaller or larger than -100 and 100."
   ]
  },
  {
   "cell_type": "code",
   "execution_count": 306,
   "metadata": {},
   "outputs": [
    {
     "name": "stdout",
     "output_type": "stream",
     "text": [
      "2\n",
      "3\n"
     ]
    }
   ],
   "source": [
    "def largest_difference(my_list):\n",
    "    my_list = sorted(my_list)\n",
    "    return my_list[-1] - my_list[0]\n",
    "\n",
    "print(largest_difference([1, 2, 3]))\n",
    "print(largest_difference([1, 4, 3, 2]))"
   ]
  },
  {
   "cell_type": "markdown",
   "metadata": {},
   "source": [
    "Divisible by 3\n",
    "Define a function named div_3 that returns True if its single integer parameter is divisible by 3 and False otherwise.\n",
    "\n",
    "For example, div_3(6) is True because 6/3 does not leave any remainder. However div_3(5) is False because 5/3 leaves 2 as a remainder."
   ]
  },
  {
   "cell_type": "code",
   "execution_count": 309,
   "metadata": {},
   "outputs": [
    {
     "name": "stdout",
     "output_type": "stream",
     "text": [
      "True\n",
      "True\n",
      "False\n"
     ]
    }
   ],
   "source": [
    "def div_3(number):\n",
    "    return number % 3 == 0\n",
    "\n",
    "print(div_3(3))\n",
    "print(div_3(18))\n",
    "print(div_3(5))"
   ]
  },
  {
   "cell_type": "markdown",
   "metadata": {},
   "source": [
    "Tic tac toe input\n",
    "Here's the backstory for this challenge: imagine you're writing a tic-tac-toe game, where the board looks like this:\n",
    "\n",
    "1:  X | O | X\n",
    "   -----------\n",
    "2:    |   |  \n",
    "   -----------\n",
    "3:  O |   |\n",
    "\n",
    "    A   B  C\n",
    "The board is represented as a 2D list:\n",
    "\n",
    "board = [\n",
    "    [\"X\", \"O\", \"X\"],\n",
    "    [\" \", \" \", \" \"],\n",
    "    [\"O\", \" \", \" \"],\n",
    "]\n",
    "Imagine if your user enters \"C1\" and you need to see if there's an X or O in that cell on the board. To do so, you need to translate from the string \"C1\" to row 0 and column 2 so that you can check board[row][column].\n",
    "\n",
    "Your task is to write a function that can translate from strings of length 2 to a tuple (row, column). Name your function get_row_col; it should take a single parameter which is a string of length 2 consisting of an uppercase letter and a digit.\n",
    "\n",
    "For example, calling get_row_col(\"A3\") should return the tuple (2, 0) because A3 corresponds to the row at index 2 and column at index 0in the board."
   ]
  },
  {
   "cell_type": "code",
   "execution_count": 368,
   "metadata": {},
   "outputs": [
    {
     "name": "stdout",
     "output_type": "stream",
     "text": [
      "(2, 0)\n",
      "(0, 2)\n",
      "(1, 1)\n"
     ]
    }
   ],
   "source": [
    "def get_row_col(my_string):\n",
    "    letter_index = {\"A\": 0, \"B\": 1, \"C\": 2} \n",
    "    return (int(my_string[1]) - 1, letter_index.get(my_string[0]))\n",
    "\n",
    "print(get_row_col(\"A3\"))\n",
    "print(get_row_col(\"C1\"))\n",
    "print(get_row_col(\"B2\"))"
   ]
  },
  {
   "cell_type": "markdown",
   "metadata": {},
   "source": [
    "Palindrome\n",
    "A string is a palindrome when it is the same when read backwards.\n",
    "\n",
    "For example, the string \"bob\" is a palindrome. So is \"abba\". But the string \"abcd\" is not a palindrome, because \"abcd\" != \"dcba\".\n",
    "\n",
    "Write a function named palindrome that takes a single string as its parameter. Your function should return True if the string is a palindrome, and False otherwise."
   ]
  },
  {
   "cell_type": "code",
   "execution_count": 389,
   "metadata": {},
   "outputs": [
    {
     "name": "stdout",
     "output_type": "stream",
     "text": [
      "True\n",
      "False\n",
      "True\n"
     ]
    }
   ],
   "source": [
    "def palindrome(my_string):\n",
    "    return my_string == ''.join([my_string[-i-1] for i in range(len(my_string))])\n",
    "    #return mys_string == my_string[::-1]\n",
    "\n",
    "print(palindrome(\"bob\"))\n",
    "print(palindrome(\"abcd\"))\n",
    "print(palindrome(\"level\"))"
   ]
  },
  {
   "cell_type": "code",
   "execution_count": null,
   "metadata": {},
   "outputs": [],
   "source": [
    "Up and down\n",
    "Define a function named up_down that takes a single number as its parameter. Your function return a tuple containing two numbers; the first should be one lower than the parameter, and the second should be one higher.\n",
    "\n",
    "For example, calling up_down(5) should return (4, 6)."
   ]
  },
  {
   "cell_type": "code",
   "execution_count": 393,
   "metadata": {},
   "outputs": [
    {
     "name": "stdout",
     "output_type": "stream",
     "text": [
      "(4, 6)\n",
      "(3, 5)\n",
      "(-1, 1)\n"
     ]
    }
   ],
   "source": [
    "def up_down(number):\n",
    "    return (number - 1, number + 1)\n",
    "\n",
    "print(up_down(5))\n",
    "print(up_down(4))\n",
    "print(up_down(0))"
   ]
  },
  {
   "cell_type": "markdown",
   "metadata": {},
   "source": [
    "Consecutive zeros\n",
    "The goal of this challenge is to analyze a binary string consisting of only zeros and ones. Your code should find the biggest number of consecutive zeros in the string. For example, given the string:\n",
    "\n",
    "\"1001101000110\"\n",
    "The biggest number of consecutive zeros is 3.\n",
    "\n",
    "Define a function named consecutive_zeros that takes a single parameter, which is the string of zeros and ones. Your function should return the number described above."
   ]
  },
  {
   "cell_type": "code",
   "execution_count": 405,
   "metadata": {},
   "outputs": [
    {
     "name": "stdout",
     "output_type": "stream",
     "text": [
      "3\n",
      "6\n",
      "4\n"
     ]
    }
   ],
   "source": [
    "def consecutive_zeros(my_string):\n",
    "    return max([len(s) for s in my_string.split(\"1\")])\n",
    "\n",
    "print(consecutive_zeros(\"1001101000110\"))\n",
    "print(consecutive_zeros(\"100110000001000110\"))\n",
    "print(consecutive_zeros(\"100001101000110\"))"
   ]
  },
  {
   "cell_type": "code",
   "execution_count": 401,
   "metadata": {},
   "outputs": [
    {
     "ename": "AttributeError",
     "evalue": "'list' object has no attribute 'len'",
     "output_type": "error",
     "traceback": [
      "\u001b[1;31m---------------------------------------------------------------------------\u001b[0m",
      "\u001b[1;31mAttributeError\u001b[0m                            Traceback (most recent call last)",
      "Cell \u001b[1;32mIn[401], line 1\u001b[0m\n\u001b[1;32m----> 1\u001b[0m \u001b[43mtest\u001b[49m\u001b[38;5;241;43m.\u001b[39;49m\u001b[43mlen\u001b[49m()\n",
      "\u001b[1;31mAttributeError\u001b[0m: 'list' object has no attribute 'len'"
     ]
    }
   ],
   "source": [
    "max()"
   ]
  }
 ],
 "metadata": {
  "kernelspec": {
   "display_name": "Python 3",
   "language": "python",
   "name": "python3"
  },
  "language_info": {
   "codemirror_mode": {
    "name": "ipython",
    "version": 3
   },
   "file_extension": ".py",
   "mimetype": "text/x-python",
   "name": "python",
   "nbconvert_exporter": "python",
   "pygments_lexer": "ipython3",
   "version": "3.12.7"
  }
 },
 "nbformat": 4,
 "nbformat_minor": 2
}
